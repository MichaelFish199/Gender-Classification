{
 "cells": [
  {
   "cell_type": "markdown",
   "metadata": {},
   "source": [
    "# Loading Dependencis"
   ]
  },
  {
   "cell_type": "code",
   "execution_count": 1,
   "metadata": {
    "_cell_guid": "b1076dfc-b9ad-4769-8c92-a6c4dae69d19",
    "_uuid": "8f2839f25d086af736a60e9eeb907d3b93b6e0e5",
    "execution": {
     "iopub.execute_input": "2022-10-06T11:52:38.160582Z",
     "iopub.status.busy": "2022-10-06T11:52:38.159859Z",
     "iopub.status.idle": "2022-10-06T11:52:38.842784Z",
     "shell.execute_reply": "2022-10-06T11:52:38.841584Z",
     "shell.execute_reply.started": "2022-10-06T11:52:38.160478Z"
    }
   },
   "outputs": [],
   "source": [
    "import numpy as np # linear algebra\n",
    "import pandas as pd # data processing\n",
    "import seaborn as sns # for plotting\n",
    "import joblib # for model saving/loading\n",
    "\n",
    "# ML Tools\n",
    "from sklearn.preprocessing import OrdinalEncoder\n",
    "from sklearn.pipeline import Pipeline\n",
    "from sklearn.model_selection import GridSearchCV, cross_val_score, RepeatedKFold\n",
    "\n",
    "# ML Classifiers\n",
    "from sklearn.svm import SVC\n",
    "from sklearn.linear_model import LogisticRegression\n",
    "from sklearn.discriminant_analysis import LinearDiscriminantAnalysis\n",
    "from sklearn.neighbors import KNeighborsClassifier\n",
    "from sklearn.naive_bayes import GaussianNB\n",
    "from sklearn.tree import DecisionTreeClassifier\n",
    "from sklearn.ensemble import RandomForestClassifier\n",
    "from sklearn.ensemble import GradientBoostingClassifier"
   ]
  },
  {
   "cell_type": "markdown",
   "metadata": {},
   "source": [
    "# Loading Data"
   ]
  },
  {
   "cell_type": "code",
   "execution_count": 2,
   "metadata": {
    "execution": {
     "iopub.execute_input": "2022-10-06T11:52:38.862932Z",
     "iopub.status.busy": "2022-10-06T11:52:38.862558Z",
     "iopub.status.idle": "2022-10-06T11:52:38.885656Z",
     "shell.execute_reply": "2022-10-06T11:52:38.884342Z",
     "shell.execute_reply.started": "2022-10-06T11:52:38.862898Z"
    }
   },
   "outputs": [
    {
     "data": {
      "text/html": [
       "<div>\n",
       "<style scoped>\n",
       "    .dataframe tbody tr th:only-of-type {\n",
       "        vertical-align: middle;\n",
       "    }\n",
       "\n",
       "    .dataframe tbody tr th {\n",
       "        vertical-align: top;\n",
       "    }\n",
       "\n",
       "    .dataframe thead th {\n",
       "        text-align: right;\n",
       "    }\n",
       "</style>\n",
       "<table border=\"1\" class=\"dataframe\">\n",
       "  <thead>\n",
       "    <tr style=\"text-align: right;\">\n",
       "      <th></th>\n",
       "      <th>Favorite Color</th>\n",
       "      <th>Favorite Music Genre</th>\n",
       "      <th>Favorite Beverage</th>\n",
       "      <th>Favorite Soft Drink</th>\n",
       "      <th>Gender</th>\n",
       "    </tr>\n",
       "  </thead>\n",
       "  <tbody>\n",
       "    <tr>\n",
       "      <th>62</th>\n",
       "      <td>Cool</td>\n",
       "      <td>Rock</td>\n",
       "      <td>Doesn't drink</td>\n",
       "      <td>Other</td>\n",
       "      <td>M</td>\n",
       "    </tr>\n",
       "    <tr>\n",
       "      <th>76</th>\n",
       "      <td>Warm</td>\n",
       "      <td>Jazz/Blues</td>\n",
       "      <td>Vodka</td>\n",
       "      <td>Coca Cola/Pepsi</td>\n",
       "      <td>M</td>\n",
       "    </tr>\n",
       "    <tr>\n",
       "      <th>25</th>\n",
       "      <td>Cool</td>\n",
       "      <td>Pop</td>\n",
       "      <td>Doesn't drink</td>\n",
       "      <td>7UP/Sprite</td>\n",
       "      <td>F</td>\n",
       "    </tr>\n",
       "    <tr>\n",
       "      <th>40</th>\n",
       "      <td>Warm</td>\n",
       "      <td>Rock</td>\n",
       "      <td>Other</td>\n",
       "      <td>Coca Cola/Pepsi</td>\n",
       "      <td>F</td>\n",
       "    </tr>\n",
       "    <tr>\n",
       "      <th>22</th>\n",
       "      <td>Cool</td>\n",
       "      <td>Pop</td>\n",
       "      <td>Wine</td>\n",
       "      <td>7UP/Sprite</td>\n",
       "      <td>F</td>\n",
       "    </tr>\n",
       "  </tbody>\n",
       "</table>\n",
       "</div>"
      ],
      "text/plain": [
       "   Favorite Color Favorite Music Genre Favorite Beverage Favorite Soft Drink  \\\n",
       "62           Cool                 Rock     Doesn't drink               Other   \n",
       "76           Warm           Jazz/Blues             Vodka     Coca Cola/Pepsi   \n",
       "25           Cool                  Pop     Doesn't drink          7UP/Sprite   \n",
       "40           Warm                 Rock             Other     Coca Cola/Pepsi   \n",
       "22           Cool                  Pop              Wine          7UP/Sprite   \n",
       "\n",
       "   Gender  \n",
       "62      M  \n",
       "76      M  \n",
       "25      F  \n",
       "40      F  \n",
       "22      F  "
      ]
     },
     "execution_count": 2,
     "metadata": {},
     "output_type": "execute_result"
    }
   ],
   "source": [
    "# Loading Dataset\n",
    "df = pd.read_csv(\"gender_data.csv\")\n",
    "df.sample(5)"
   ]
  },
  {
   "cell_type": "code",
   "execution_count": 3,
   "metadata": {
    "execution": {
     "iopub.execute_input": "2022-10-06T11:52:38.890014Z",
     "iopub.status.busy": "2022-10-06T11:52:38.888900Z",
     "iopub.status.idle": "2022-10-06T11:52:38.896736Z",
     "shell.execute_reply": "2022-10-06T11:52:38.895554Z",
     "shell.execute_reply.started": "2022-10-06T11:52:38.889974Z"
    }
   },
   "outputs": [],
   "source": [
    "# Splitting into data and target\n",
    "data = df.drop(\"Gender\", axis=1)\n",
    "target = df.Gender"
   ]
  },
  {
   "cell_type": "markdown",
   "metadata": {},
   "source": [
    "# Exploratory Data Analysis"
   ]
  },
  {
   "cell_type": "code",
   "execution_count": 4,
   "metadata": {
    "execution": {
     "iopub.execute_input": "2022-10-06T11:52:38.898554Z",
     "iopub.status.busy": "2022-10-06T11:52:38.898139Z",
     "iopub.status.idle": "2022-10-06T11:52:38.924546Z",
     "shell.execute_reply": "2022-10-06T11:52:38.923329Z",
     "shell.execute_reply.started": "2022-10-06T11:52:38.898516Z"
    }
   },
   "outputs": [
    {
     "data": {
      "text/html": [
       "<div>\n",
       "<style scoped>\n",
       "    .dataframe tbody tr th:only-of-type {\n",
       "        vertical-align: middle;\n",
       "    }\n",
       "\n",
       "    .dataframe tbody tr th {\n",
       "        vertical-align: top;\n",
       "    }\n",
       "\n",
       "    .dataframe thead th {\n",
       "        text-align: right;\n",
       "    }\n",
       "</style>\n",
       "<table border=\"1\" class=\"dataframe\">\n",
       "  <thead>\n",
       "    <tr style=\"text-align: right;\">\n",
       "      <th></th>\n",
       "      <th>Favorite Color</th>\n",
       "      <th>Favorite Music Genre</th>\n",
       "      <th>Favorite Beverage</th>\n",
       "      <th>Favorite Soft Drink</th>\n",
       "      <th>Gender</th>\n",
       "    </tr>\n",
       "  </thead>\n",
       "  <tbody>\n",
       "    <tr>\n",
       "      <th>count</th>\n",
       "      <td>86</td>\n",
       "      <td>86</td>\n",
       "      <td>86</td>\n",
       "      <td>86</td>\n",
       "      <td>86</td>\n",
       "    </tr>\n",
       "    <tr>\n",
       "      <th>unique</th>\n",
       "      <td>3</td>\n",
       "      <td>7</td>\n",
       "      <td>6</td>\n",
       "      <td>4</td>\n",
       "      <td>2</td>\n",
       "    </tr>\n",
       "    <tr>\n",
       "      <th>top</th>\n",
       "      <td>Cool</td>\n",
       "      <td>Rock</td>\n",
       "      <td>Beer</td>\n",
       "      <td>Coca Cola/Pepsi</td>\n",
       "      <td>F</td>\n",
       "    </tr>\n",
       "    <tr>\n",
       "      <th>freq</th>\n",
       "      <td>47</td>\n",
       "      <td>22</td>\n",
       "      <td>17</td>\n",
       "      <td>40</td>\n",
       "      <td>43</td>\n",
       "    </tr>\n",
       "  </tbody>\n",
       "</table>\n",
       "</div>"
      ],
      "text/plain": [
       "       Favorite Color Favorite Music Genre Favorite Beverage  \\\n",
       "count              86                   86                86   \n",
       "unique              3                    7                 6   \n",
       "top              Cool                 Rock              Beer   \n",
       "freq               47                   22                17   \n",
       "\n",
       "       Favorite Soft Drink Gender  \n",
       "count                   86     86  \n",
       "unique                   4      2  \n",
       "top        Coca Cola/Pepsi      F  \n",
       "freq                    40     43  "
      ]
     },
     "execution_count": 4,
     "metadata": {},
     "output_type": "execute_result"
    }
   ],
   "source": [
    "# Checking info about df\n",
    "df.describe()"
   ]
  },
  {
   "cell_type": "code",
   "execution_count": 5,
   "metadata": {
    "execution": {
     "iopub.execute_input": "2022-10-06T11:52:38.926693Z",
     "iopub.status.busy": "2022-10-06T11:52:38.926358Z",
     "iopub.status.idle": "2022-10-06T11:52:38.938765Z",
     "shell.execute_reply": "2022-10-06T11:52:38.937514Z",
     "shell.execute_reply.started": "2022-10-06T11:52:38.926662Z"
    }
   },
   "outputs": [
    {
     "data": {
      "text/plain": [
       "Favorite Color          0\n",
       "Favorite Music Genre    0\n",
       "Favorite Beverage       0\n",
       "Favorite Soft Drink     0\n",
       "Gender                  0\n",
       "dtype: int64"
      ]
     },
     "execution_count": 5,
     "metadata": {},
     "output_type": "execute_result"
    }
   ],
   "source": [
    "# Checking if thre are any missing values\n",
    "df.isnull().sum()"
   ]
  },
  {
   "cell_type": "code",
   "execution_count": 6,
   "metadata": {
    "execution": {
     "iopub.execute_input": "2022-10-06T11:52:38.943001Z",
     "iopub.status.busy": "2022-10-06T11:52:38.942328Z",
     "iopub.status.idle": "2022-10-06T11:52:38.953958Z",
     "shell.execute_reply": "2022-10-06T11:52:38.952762Z",
     "shell.execute_reply.started": "2022-10-06T11:52:38.942965Z"
    }
   },
   "outputs": [
    {
     "data": {
      "text/plain": [
       "Favorite Color          object\n",
       "Favorite Music Genre    object\n",
       "Favorite Beverage       object\n",
       "Favorite Soft Drink     object\n",
       "Gender                  object\n",
       "dtype: object"
      ]
     },
     "execution_count": 6,
     "metadata": {},
     "output_type": "execute_result"
    }
   ],
   "source": [
    "# Checking Dtypes of features\n",
    "df.dtypes"
   ]
  },
  {
   "cell_type": "code",
   "execution_count": 7,
   "metadata": {
    "execution": {
     "iopub.execute_input": "2022-10-06T11:52:38.955917Z",
     "iopub.status.busy": "2022-10-06T11:52:38.955467Z",
     "iopub.status.idle": "2022-10-06T11:52:38.968188Z",
     "shell.execute_reply": "2022-10-06T11:52:38.966824Z",
     "shell.execute_reply.started": "2022-10-06T11:52:38.955881Z"
    }
   },
   "outputs": [
    {
     "data": {
      "text/plain": [
       "F    43\n",
       "M    43\n",
       "Name: Gender, dtype: int64"
      ]
     },
     "execution_count": 7,
     "metadata": {},
     "output_type": "execute_result"
    }
   ],
   "source": [
    "# Checking equality of target class\n",
    "df['Gender'].value_counts()"
   ]
  },
  {
   "cell_type": "code",
   "execution_count": 8,
   "metadata": {
    "execution": {
     "iopub.execute_input": "2022-10-06T11:52:38.970646Z",
     "iopub.status.busy": "2022-10-06T11:52:38.970185Z",
     "iopub.status.idle": "2022-10-06T11:52:38.991369Z",
     "shell.execute_reply": "2022-10-06T11:52:38.990031Z",
     "shell.execute_reply.started": "2022-10-06T11:52:38.970610Z"
    }
   },
   "outputs": [
    {
     "data": {
      "text/html": [
       "<div>\n",
       "<style scoped>\n",
       "    .dataframe tbody tr th:only-of-type {\n",
       "        vertical-align: middle;\n",
       "    }\n",
       "\n",
       "    .dataframe tbody tr th {\n",
       "        vertical-align: top;\n",
       "    }\n",
       "\n",
       "    .dataframe thead th {\n",
       "        text-align: right;\n",
       "    }\n",
       "</style>\n",
       "<table border=\"1\" class=\"dataframe\">\n",
       "  <thead>\n",
       "    <tr style=\"text-align: right;\">\n",
       "      <th></th>\n",
       "      <th>Favorite Color</th>\n",
       "      <th>Favorite Music Genre</th>\n",
       "      <th>Favorite Beverage</th>\n",
       "      <th>Favorite Soft Drink</th>\n",
       "      <th>Gender</th>\n",
       "    </tr>\n",
       "  </thead>\n",
       "  <tbody>\n",
       "    <tr>\n",
       "      <th>0</th>\n",
       "      <td>0.0</td>\n",
       "      <td>6.0</td>\n",
       "      <td>3.0</td>\n",
       "      <td>0.0</td>\n",
       "      <td>0.0</td>\n",
       "    </tr>\n",
       "    <tr>\n",
       "      <th>1</th>\n",
       "      <td>1.0</td>\n",
       "      <td>2.0</td>\n",
       "      <td>3.0</td>\n",
       "      <td>1.0</td>\n",
       "      <td>0.0</td>\n",
       "    </tr>\n",
       "    <tr>\n",
       "      <th>2</th>\n",
       "      <td>2.0</td>\n",
       "      <td>6.0</td>\n",
       "      <td>5.0</td>\n",
       "      <td>1.0</td>\n",
       "      <td>0.0</td>\n",
       "    </tr>\n",
       "    <tr>\n",
       "      <th>3</th>\n",
       "      <td>2.0</td>\n",
       "      <td>1.0</td>\n",
       "      <td>4.0</td>\n",
       "      <td>2.0</td>\n",
       "      <td>0.0</td>\n",
       "    </tr>\n",
       "    <tr>\n",
       "      <th>4</th>\n",
       "      <td>0.0</td>\n",
       "      <td>6.0</td>\n",
       "      <td>5.0</td>\n",
       "      <td>1.0</td>\n",
       "      <td>0.0</td>\n",
       "    </tr>\n",
       "  </tbody>\n",
       "</table>\n",
       "</div>"
      ],
      "text/plain": [
       "   Favorite Color  Favorite Music Genre  Favorite Beverage  \\\n",
       "0             0.0                   6.0                3.0   \n",
       "1             1.0                   2.0                3.0   \n",
       "2             2.0                   6.0                5.0   \n",
       "3             2.0                   1.0                4.0   \n",
       "4             0.0                   6.0                5.0   \n",
       "\n",
       "   Favorite Soft Drink  Gender  \n",
       "0                  0.0     0.0  \n",
       "1                  1.0     0.0  \n",
       "2                  1.0     0.0  \n",
       "3                  2.0     0.0  \n",
       "4                  1.0     0.0  "
      ]
     },
     "execution_count": 8,
     "metadata": {},
     "output_type": "execute_result"
    }
   ],
   "source": [
    "# Transforming categorical features to numerical\n",
    "encoded = OrdinalEncoder().fit_transform(df)\n",
    "df_encoded = pd.DataFrame(encoded, columns=df.columns)\n",
    "df_encoded.head()"
   ]
  },
  {
   "cell_type": "code",
   "execution_count": 9,
   "metadata": {
    "execution": {
     "iopub.execute_input": "2022-10-06T11:52:38.995886Z",
     "iopub.status.busy": "2022-10-06T11:52:38.995522Z",
     "iopub.status.idle": "2022-10-06T11:52:39.323760Z",
     "shell.execute_reply": "2022-10-06T11:52:39.322804Z",
     "shell.execute_reply.started": "2022-10-06T11:52:38.995855Z"
    }
   },
   "outputs": [
    {
     "data": {
      "image/png": "[encoded data removed]",
      "text/plain": [
       "<Figure size 432x288 with 2 Axes>"
      ]
     },
     "metadata": {
      "needs_background": "light"
     },
     "output_type": "display_data"
    }
   ],
   "source": [
    "# Checking correlation of features\n",
    "corr_matrix = df_encoded.corr()\n",
    "sns.heatmap(corr_matrix);"
   ]
  },
  {
   "cell_type": "code",
   "execution_count": 10,
   "metadata": {
    "execution": {
     "iopub.execute_input": "2022-10-06T11:52:39.326113Z",
     "iopub.status.busy": "2022-10-06T11:52:39.324926Z",
     "iopub.status.idle": "2022-10-06T11:52:39.342784Z",
     "shell.execute_reply": "2022-10-06T11:52:39.341340Z",
     "shell.execute_reply.started": "2022-10-06T11:52:39.326063Z"
    }
   },
   "outputs": [
    {
     "data": {
      "text/html": [
       "<div>\n",
       "<style scoped>\n",
       "    .dataframe tbody tr th:only-of-type {\n",
       "        vertical-align: middle;\n",
       "    }\n",
       "\n",
       "    .dataframe tbody tr th {\n",
       "        vertical-align: top;\n",
       "    }\n",
       "\n",
       "    .dataframe thead th {\n",
       "        text-align: right;\n",
       "    }\n",
       "</style>\n",
       "<table border=\"1\" class=\"dataframe\">\n",
       "  <thead>\n",
       "    <tr style=\"text-align: right;\">\n",
       "      <th></th>\n",
       "      <th>Favorite Color</th>\n",
       "      <th>Favorite Music Genre</th>\n",
       "      <th>Favorite Beverage</th>\n",
       "      <th>Favorite Soft Drink</th>\n",
       "    </tr>\n",
       "  </thead>\n",
       "  <tbody>\n",
       "    <tr>\n",
       "      <th>0</th>\n",
       "      <td>0.0</td>\n",
       "      <td>6.0</td>\n",
       "      <td>3.0</td>\n",
       "      <td>0.0</td>\n",
       "    </tr>\n",
       "    <tr>\n",
       "      <th>1</th>\n",
       "      <td>1.0</td>\n",
       "      <td>2.0</td>\n",
       "      <td>3.0</td>\n",
       "      <td>1.0</td>\n",
       "    </tr>\n",
       "    <tr>\n",
       "      <th>2</th>\n",
       "      <td>2.0</td>\n",
       "      <td>6.0</td>\n",
       "      <td>5.0</td>\n",
       "      <td>1.0</td>\n",
       "    </tr>\n",
       "    <tr>\n",
       "      <th>3</th>\n",
       "      <td>2.0</td>\n",
       "      <td>1.0</td>\n",
       "      <td>4.0</td>\n",
       "      <td>2.0</td>\n",
       "    </tr>\n",
       "    <tr>\n",
       "      <th>4</th>\n",
       "      <td>0.0</td>\n",
       "      <td>6.0</td>\n",
       "      <td>5.0</td>\n",
       "      <td>1.0</td>\n",
       "    </tr>\n",
       "  </tbody>\n",
       "</table>\n",
       "</div>"
      ],
      "text/plain": [
       "   Favorite Color  Favorite Music Genre  Favorite Beverage  \\\n",
       "0             0.0                   6.0                3.0   \n",
       "1             1.0                   2.0                3.0   \n",
       "2             2.0                   6.0                5.0   \n",
       "3             2.0                   1.0                4.0   \n",
       "4             0.0                   6.0                5.0   \n",
       "\n",
       "   Favorite Soft Drink  \n",
       "0                  0.0  \n",
       "1                  1.0  \n",
       "2                  1.0  \n",
       "3                  2.0  \n",
       "4                  1.0  "
      ]
     },
     "execution_count": 10,
     "metadata": {},
     "output_type": "execute_result"
    }
   ],
   "source": [
    "# Splitting data into X and y\n",
    "X = df_encoded.drop(\"Gender\", axis=1)\n",
    "y = df_encoded.Gender\n",
    "X.head()"
   ]
  },
  {
   "cell_type": "code",
   "execution_count": 11,
   "metadata": {},
   "outputs": [
    {
     "data": {
      "image/png": "[encoded data removed]",
      "text/plain": [
       "<Figure size 432x288 with 1 Axes>"
      ]
     },
     "metadata": {
      "needs_background": "light"
     },
     "output_type": "display_data"
    }
   ],
   "source": [
    "# Displaying data in 2d\n",
    "from sklearn.decomposition import PCA\n",
    "scaled_X = pd.DataFrame(PCA(2).fit_transform(X))\n",
    "\n",
    "sns.scatterplot(x=0, y=1, hue=y, data=scaled_X);"
   ]
  },
  {
   "cell_type": "markdown",
   "metadata": {},
   "source": [
    "# Searching for Best Model"
   ]
  },
  {
   "cell_type": "code",
   "execution_count": 12,
   "metadata": {
    "execution": {
     "iopub.execute_input": "2022-10-06T11:52:39.344744Z",
     "iopub.status.busy": "2022-10-06T11:52:39.344363Z",
     "iopub.status.idle": "2022-10-06T11:52:39.357026Z",
     "shell.execute_reply": "2022-10-06T11:52:39.355809Z",
     "shell.execute_reply.started": "2022-10-06T11:52:39.344694Z"
    }
   },
   "outputs": [],
   "source": [
    "# Dictionary for model/parameter search\n",
    "model_params = {\n",
    "    'svm': {\n",
    "        'model': SVC(gamma='auto'),\n",
    "        'params' : {\n",
    "            'C': [1,5,10,15,20],\n",
    "            'kernel': ['rbf','linear','poly','sigmoid'],\n",
    "            'degree': [2,3]\n",
    "        }  \n",
    "    },\n",
    "    'logistic_regression': {\n",
    "        'model': LogisticRegression(solver='liblinear', multi_class='auto', penalty=\"l2\"),\n",
    "        'params': {\n",
    "            'C': [1,5,10]\n",
    "        }\n",
    "    },\n",
    "    'LDA' : {\n",
    "        'model': LinearDiscriminantAnalysis(),\n",
    "        'params': {\n",
    "        }\n",
    "    },\n",
    "    'KNN' : {\n",
    "        'model': KNeighborsClassifier(),\n",
    "        'params': {\n",
    "            'n_neighbors': list(range(5,12)),\n",
    "            'weights': ['uniform', 'distance'],\n",
    "            'p': [1, 2]\n",
    "        }\n",
    "    },\n",
    "    'naive_bayes' : {\n",
    "        'model': GaussianNB(),\n",
    "        'params' : {\n",
    "            'var_smoothing': [1e-8,1e-9,1e-10]\n",
    "        }\n",
    "    },\n",
    "    'decision_tree': {\n",
    "        'model': DecisionTreeClassifier(),\n",
    "        'params': {\n",
    "            'criterion': [\"gini\", \"entropy\"],\n",
    "            'splitter': [\"best\", \"random\"]\n",
    "        }\n",
    "    },\n",
    "    'random_forest': {\n",
    "        'model': RandomForestClassifier(),\n",
    "        'params' : {\n",
    "            'n_estimators': [1,4,5,10,15,45]\n",
    "        }\n",
    "    },\n",
    "    'gradient_boosting_cls': {\n",
    "        'model': GradientBoostingClassifier(),\n",
    "        'params': {\n",
    "            'loss': [\"deviance\"],\n",
    "            'subsample': [0.4, 0.1],\n",
    "            'min_samples_split': [2,4],\n",
    "            'min_samples_leaf': [2,4],\n",
    "            'min_weight_fraction_leaf': [0, 0.01],\n",
    "            'max_depth': [3,5],\n",
    "        }\n",
    "    }\n",
    "}"
   ]
  },
  {
   "cell_type": "code",
   "execution_count": 13,
   "metadata": {},
   "outputs": [
    {
     "name": "stdout",
     "output_type": "stream",
     "text": [
      "svm has ended compiling\n",
      "logistic_regression has ended compiling\n",
      "LDA has ended compiling\n",
      "KNN has ended compiling\n",
      "naive_bayes has ended compiling\n",
      "decision_tree has ended compiling\n",
      "random_forest has ended compiling\n",
      "gradient_boosting_cls has ended compiling\n",
      "\n",
      "--------------- GRID SEARCH RESULTS ---------------\n"
     ]
    },
    {
     "data": {
      "text/html": [
       "<div>\n",
       "<style scoped>\n",
       "    .dataframe tbody tr th:only-of-type {\n",
       "        vertical-align: middle;\n",
       "    }\n",
       "\n",
       "    .dataframe tbody tr th {\n",
       "        vertical-align: top;\n",
       "    }\n",
       "\n",
       "    .dataframe thead th {\n",
       "        text-align: right;\n",
       "    }\n",
       "</style>\n",
       "<table border=\"1\" class=\"dataframe\">\n",
       "  <thead>\n",
       "    <tr style=\"text-align: right;\">\n",
       "      <th></th>\n",
       "      <th>model</th>\n",
       "      <th>best_score</th>\n",
       "      <th>best_params</th>\n",
       "    </tr>\n",
       "  </thead>\n",
       "  <tbody>\n",
       "    <tr>\n",
       "      <th>0</th>\n",
       "      <td>svm</td>\n",
       "      <td>0.713987</td>\n",
       "      <td>{'C': 5, 'degree': 2, 'kernel': 'rbf'}</td>\n",
       "    </tr>\n",
       "    <tr>\n",
       "      <th>1</th>\n",
       "      <td>logistic_regression</td>\n",
       "      <td>0.563268</td>\n",
       "      <td>{'C': 1}</td>\n",
       "    </tr>\n",
       "    <tr>\n",
       "      <th>2</th>\n",
       "      <td>LDA</td>\n",
       "      <td>0.545948</td>\n",
       "      <td>{}</td>\n",
       "    </tr>\n",
       "    <tr>\n",
       "      <th>3</th>\n",
       "      <td>KNN</td>\n",
       "      <td>0.714314</td>\n",
       "      <td>{'n_neighbors': 11, 'p': 1, 'weights': 'distan...</td>\n",
       "    </tr>\n",
       "    <tr>\n",
       "      <th>4</th>\n",
       "      <td>naive_bayes</td>\n",
       "      <td>0.544118</td>\n",
       "      <td>{'var_smoothing': 1e-08}</td>\n",
       "    </tr>\n",
       "    <tr>\n",
       "      <th>5</th>\n",
       "      <td>decision_tree</td>\n",
       "      <td>0.682941</td>\n",
       "      <td>{'criterion': 'entropy', 'splitter': 'best'}</td>\n",
       "    </tr>\n",
       "    <tr>\n",
       "      <th>6</th>\n",
       "      <td>random_forest</td>\n",
       "      <td>0.705948</td>\n",
       "      <td>{'n_estimators': 45}</td>\n",
       "    </tr>\n",
       "    <tr>\n",
       "      <th>7</th>\n",
       "      <td>gradient_boosting_cls</td>\n",
       "      <td>0.736797</td>\n",
       "      <td>{'loss': 'deviance', 'max_depth': 5, 'min_samp...</td>\n",
       "    </tr>\n",
       "  </tbody>\n",
       "</table>\n",
       "</div>"
      ],
      "text/plain": [
       "                   model  best_score  \\\n",
       "0                    svm    0.713987   \n",
       "1    logistic_regression    0.563268   \n",
       "2                    LDA    0.545948   \n",
       "3                    KNN    0.714314   \n",
       "4            naive_bayes    0.544118   \n",
       "5          decision_tree    0.682941   \n",
       "6          random_forest    0.705948   \n",
       "7  gradient_boosting_cls    0.736797   \n",
       "\n",
       "                                         best_params  \n",
       "0             {'C': 5, 'degree': 2, 'kernel': 'rbf'}  \n",
       "1                                           {'C': 1}  \n",
       "2                                                 {}  \n",
       "3  {'n_neighbors': 11, 'p': 1, 'weights': 'distan...  \n",
       "4                           {'var_smoothing': 1e-08}  \n",
       "5       {'criterion': 'entropy', 'splitter': 'best'}  \n",
       "6                               {'n_estimators': 45}  \n",
       "7  {'loss': 'deviance', 'max_depth': 5, 'min_samp...  "
      ]
     },
     "execution_count": 13,
     "metadata": {},
     "output_type": "execute_result"
    }
   ],
   "source": [
    "# Model search\n",
    "scores = []\n",
    "\n",
    "for model_name, mp in model_params.items():\n",
    "    clf =  GridSearchCV(mp['model'], mp['params'], cv=RepeatedKFold(n_splits=5, n_repeats=10), return_train_score=False, error_score='raise')\n",
    "    clf.fit(X, y)\n",
    "    scores.append({\n",
    "        'model': model_name,\n",
    "        'best_score': clf.best_score_,\n",
    "        'best_params': clf.best_params_\n",
    "    })\n",
    "    print(f\"{model_name} has ended compiling\")\n",
    "    \n",
    "df_models = pd.DataFrame(scores, columns=['model', 'best_score', 'best_params'])\n",
    "print(\"\\n--------------- GRID SEARCH RESULTS ---------------\")\n",
    "df_models"
   ]
  },
  {
   "cell_type": "markdown",
   "metadata": {},
   "source": [
    "# Creating Best Model"
   ]
  },
  {
   "cell_type": "code",
   "execution_count": 14,
   "metadata": {
    "execution": {
     "iopub.execute_input": "2022-10-06T11:54:40.017261Z",
     "iopub.status.busy": "2022-10-06T11:54:40.016907Z",
     "iopub.status.idle": "2022-10-06T11:54:40.026471Z",
     "shell.execute_reply": "2022-10-06T11:54:40.024851Z",
     "shell.execute_reply.started": "2022-10-06T11:54:40.017213Z"
    }
   },
   "outputs": [
    {
     "data": {
      "text/plain": [
       "{'loss': 'deviance',\n",
       " 'max_depth': 5,\n",
       " 'min_samples_leaf': 2,\n",
       " 'min_samples_split': 2,\n",
       " 'min_weight_fraction_leaf': 0,\n",
       " 'subsample': 0.4}"
      ]
     },
     "execution_count": 14,
     "metadata": {},
     "output_type": "execute_result"
    }
   ],
   "source": [
    "# Getting best parameters from model with highest score\n",
    "best_parameters = df_models.loc[df_models['best_score'].idxmax()]['best_params']\n",
    "best_parameters"
   ]
  },
  {
   "cell_type": "code",
   "execution_count": 15,
   "metadata": {
    "execution": {
     "iopub.execute_input": "2022-10-06T11:54:40.028102Z",
     "iopub.status.busy": "2022-10-06T11:54:40.027752Z",
     "iopub.status.idle": "2022-10-06T11:54:40.043662Z",
     "shell.execute_reply": "2022-10-06T11:54:40.042460Z",
     "shell.execute_reply.started": "2022-10-06T11:54:40.028071Z"
    }
   },
   "outputs": [
    {
     "data": {
      "text/plain": [
       "Pipeline(steps=[('ordinal_encoder', OrdinalEncoder()),\n",
       "                ('gbcls',\n",
       "                 GradientBoostingClassifier(max_depth=5, min_samples_leaf=2,\n",
       "                                            min_weight_fraction_leaf=0,\n",
       "                                            subsample=0.4))])"
      ]
     },
     "execution_count": 15,
     "metadata": {},
     "output_type": "execute_result"
    }
   ],
   "source": [
    "# Creating pipeline\n",
    "pipe = Pipeline([\n",
    "    (\"ordinal_encoder\", OrdinalEncoder()),\n",
    "    ('gbcls', GradientBoostingClassifier(**best_parameters))\n",
    "])\n",
    "\n",
    "pipe"
   ]
  },
  {
   "cell_type": "code",
   "execution_count": 16,
   "metadata": {
    "execution": {
     "iopub.execute_input": "2022-10-06T11:54:40.046039Z",
     "iopub.status.busy": "2022-10-06T11:54:40.045422Z",
     "iopub.status.idle": "2022-10-06T11:54:40.110149Z",
     "shell.execute_reply": "2022-10-06T11:54:40.108874Z",
     "shell.execute_reply.started": "2022-10-06T11:54:40.045993Z"
    }
   },
   "outputs": [
    {
     "data": {
      "text/plain": [
       "Pipeline(steps=[('ordinal_encoder', OrdinalEncoder()),\n",
       "                ('gbcls',\n",
       "                 GradientBoostingClassifier(max_depth=5, min_samples_leaf=2,\n",
       "                                            min_weight_fraction_leaf=0,\n",
       "                                            subsample=0.4))])"
      ]
     },
     "execution_count": 16,
     "metadata": {},
     "output_type": "execute_result"
    }
   ],
   "source": [
    "# Training model on whole dataset\n",
    "pipe.fit(data, target)"
   ]
  },
  {
   "cell_type": "code",
   "execution_count": 17,
   "metadata": {
    "execution": {
     "iopub.execute_input": "2022-10-06T11:54:40.112677Z",
     "iopub.status.busy": "2022-10-06T11:54:40.112155Z",
     "iopub.status.idle": "2022-10-06T11:54:40.132014Z",
     "shell.execute_reply": "2022-10-06T11:54:40.130152Z",
     "shell.execute_reply.started": "2022-10-06T11:54:40.112631Z"
    }
   },
   "outputs": [
    {
     "data": {
      "text/plain": [
       "['cls-models/sklearn-gender-cls.pkl']"
      ]
     },
     "execution_count": 17,
     "metadata": {},
     "output_type": "execute_result"
    }
   ],
   "source": [
    "# Saving pipeline\n",
    "joblib.dump(pipe, 'cls-models/sklearn-gender-cls.pkl', compress=1)"
   ]
  },
  {
   "cell_type": "markdown",
   "metadata": {},
   "source": [
    "# Testing Pipeline"
   ]
  },
  {
   "cell_type": "code",
   "execution_count": 18,
   "metadata": {
    "execution": {
     "iopub.execute_input": "2022-10-06T11:54:40.133842Z",
     "iopub.status.busy": "2022-10-06T11:54:40.133523Z",
     "iopub.status.idle": "2022-10-06T11:54:40.142355Z",
     "shell.execute_reply": "2022-10-06T11:54:40.141000Z",
     "shell.execute_reply.started": "2022-10-06T11:54:40.133813Z"
    }
   },
   "outputs": [
    {
     "name": "stdout",
     "output_type": "stream",
     "text": [
      "-------- ALL POSIBLE OPTIONS --------\n",
      "Favorite Color: ['Cool' 'Neutral' 'Warm']\n",
      "Favorite Music Genre: ['Rock' 'Hip hop' 'Folk/Traditional' 'R&B and soul' 'Jazz/Blues' 'Pop'\n",
      " 'Electronic']\n",
      "Favorite Beverage: ['Vodka' 'Wine' 'Whiskey' 'Beer' \"Doesn't drink\" 'Other']\n",
      "Favorite Soft Drink: ['7UP/Sprite' 'Coca Cola/Pepsi' 'Fanta' 'Other']\n"
     ]
    }
   ],
   "source": [
    "# Lists of all posible feature options\n",
    "print(\"-------- ALL POSIBLE OPTIONS --------\")\n",
    "print(\"Favorite Color:\", df[\"Favorite Color\"].unique())\n",
    "print(\"Favorite Music Genre:\",df[\"Favorite Music Genre\"].unique())\n",
    "print(\"Favorite Beverage:\",df[\"Favorite Beverage\"].unique())\n",
    "print(\"Favorite Soft Drink:\",df[\"Favorite Soft Drink\"].unique())"
   ]
  },
  {
   "cell_type": "code",
   "execution_count": 19,
   "metadata": {
    "execution": {
     "iopub.execute_input": "2022-10-06T11:54:40.145100Z",
     "iopub.status.busy": "2022-10-06T11:54:40.144580Z",
     "iopub.status.idle": "2022-10-06T11:54:40.161992Z",
     "shell.execute_reply": "2022-10-06T11:54:40.160632Z",
     "shell.execute_reply.started": "2022-10-06T11:54:40.145051Z"
    }
   },
   "outputs": [
    {
     "data": {
      "text/html": [
       "<div>\n",
       "<style scoped>\n",
       "    .dataframe tbody tr th:only-of-type {\n",
       "        vertical-align: middle;\n",
       "    }\n",
       "\n",
       "    .dataframe tbody tr th {\n",
       "        vertical-align: top;\n",
       "    }\n",
       "\n",
       "    .dataframe thead th {\n",
       "        text-align: right;\n",
       "    }\n",
       "</style>\n",
       "<table border=\"1\" class=\"dataframe\">\n",
       "  <thead>\n",
       "    <tr style=\"text-align: right;\">\n",
       "      <th></th>\n",
       "      <th>Favorite Color</th>\n",
       "      <th>Favorite Music Genre</th>\n",
       "      <th>Favorite Beverage</th>\n",
       "      <th>Favorite Soft Drink</th>\n",
       "    </tr>\n",
       "  </thead>\n",
       "  <tbody>\n",
       "    <tr>\n",
       "      <th>0</th>\n",
       "      <td>Cool</td>\n",
       "      <td>Rock</td>\n",
       "      <td>Doesn't drink</td>\n",
       "      <td>Coca Cola/Pepsi</td>\n",
       "    </tr>\n",
       "  </tbody>\n",
       "</table>\n",
       "</div>"
      ],
      "text/plain": [
       "  Favorite Color Favorite Music Genre Favorite Beverage Favorite Soft Drink\n",
       "0           Cool                 Rock     Doesn't drink     Coca Cola/Pepsi"
      ]
     },
     "execution_count": 19,
     "metadata": {},
     "output_type": "execute_result"
    }
   ],
   "source": [
    "# Input your features\n",
    "user_features = {\n",
    "    \"Favorite Color\": \"Cool\",\n",
    "    \"Favorite Music Genre\": \"Rock\",\n",
    "    \"Favorite Beverage\": \"Doesn't drink\",\n",
    "    \"Favorite Soft Drink\": 'Coca Cola/Pepsi'\n",
    "}\n",
    "\n",
    "df_user = pd.DataFrame(user_features, columns=data.columns, index=[0])\n",
    "df_user"
   ]
  },
  {
   "cell_type": "code",
   "execution_count": 20,
   "metadata": {
    "execution": {
     "iopub.execute_input": "2022-10-06T11:54:40.163579Z",
     "iopub.status.busy": "2022-10-06T11:54:40.163222Z",
     "iopub.status.idle": "2022-10-06T11:54:40.184287Z",
     "shell.execute_reply": "2022-10-06T11:54:40.183003Z",
     "shell.execute_reply.started": "2022-10-06T11:54:40.163548Z"
    }
   },
   "outputs": [
    {
     "name": "stdout",
     "output_type": "stream",
     "text": [
      "YOU ARE \u001b[94mMALE!\n"
     ]
    }
   ],
   "source": [
    "# Loading pipeline\n",
    "gender_cls = joblib.load('cls-models/sklearn-gender-cls.pkl')\n",
    "\n",
    "# Predicting what gender I am\n",
    "gender = gender_cls.predict(df_user)[0]\n",
    "\n",
    "print(\"YOU ARE\", \"\\033[94mMALE!\" if gender == 'M' else \"\\033[95mFEMALE!\")"
   ]
  },
  {
   "cell_type": "markdown",
   "metadata": {},
   "source": [
    "I tried reducting number of features or scaling. It did not increase accuracy."
   ]
  }
 ],
 "metadata": {
  "kernelspec": {
   "display_name": "Python 3 (ipykernel)",
   "language": "python",
   "name": "python3"
  },
  "language_info": {
   "codemirror_mode": {
    "name": "ipython",
    "version": 3
   },
   "file_extension": ".py",
   "mimetype": "text/x-python",
   "name": "python",
   "nbconvert_exporter": "python",
   "pygments_lexer": "ipython3",
   "version": "3.9.12"
  }
 },
 "nbformat": 4,
 "nbformat_minor": 4
}
